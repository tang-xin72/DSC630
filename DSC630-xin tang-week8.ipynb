{
 "cells": [
  {
   "cell_type": "markdown",
   "id": "7603d25e",
   "metadata": {},
   "source": [
    "#### DSC630\n",
    "###### Xin Tang\n",
    "###### Week 8 time series Modeling"
   ]
  },
  {
   "cell_type": "markdown",
   "id": "3a137408",
   "metadata": {},
   "source": [
    "using the dataset us_retail_sales.csv to do a time seriea preduction, this data gives the total monthly retail sales in the US from January 1992 until June 2021. "
   ]
  },
  {
   "cell_type": "code",
   "execution_count": null,
   "id": "46f7ec1c",
   "metadata": {},
   "outputs": [],
   "source": [
    "import numpy as np\n",
    "import pandas as pd\n",
    "\n",
    "# Loading the data\n",
    "df = pd.read_csv(\"us_retail_sales.csv\")\n",
    "\n",
    "df.head()"
   ]
  },
  {
   "cell_type": "code",
   "execution_count": 26,
   "id": "dd852924",
   "metadata": {},
   "outputs": [
    {
     "data": {
      "text/html": [
       "<div>\n",
       "<style scoped>\n",
       "    .dataframe tbody tr th:only-of-type {\n",
       "        vertical-align: middle;\n",
       "    }\n",
       "\n",
       "    .dataframe tbody tr th {\n",
       "        vertical-align: top;\n",
       "    }\n",
       "\n",
       "    .dataframe thead th {\n",
       "        text-align: right;\n",
       "    }\n",
       "</style>\n",
       "<table border=\"1\" class=\"dataframe\">\n",
       "  <thead>\n",
       "    <tr style=\"text-align: right;\">\n",
       "      <th></th>\n",
       "      <th>YEAR</th>\n",
       "      <th>Month</th>\n",
       "      <th>Sales</th>\n",
       "    </tr>\n",
       "  </thead>\n",
       "  <tbody>\n",
       "    <tr>\n",
       "      <th>0</th>\n",
       "      <td>1992</td>\n",
       "      <td>JAN</td>\n",
       "      <td>146925.0</td>\n",
       "    </tr>\n",
       "    <tr>\n",
       "      <th>1</th>\n",
       "      <td>1993</td>\n",
       "      <td>JAN</td>\n",
       "      <td>157555.0</td>\n",
       "    </tr>\n",
       "    <tr>\n",
       "      <th>2</th>\n",
       "      <td>1994</td>\n",
       "      <td>JAN</td>\n",
       "      <td>167518.0</td>\n",
       "    </tr>\n",
       "    <tr>\n",
       "      <th>3</th>\n",
       "      <td>1995</td>\n",
       "      <td>JAN</td>\n",
       "      <td>182413.0</td>\n",
       "    </tr>\n",
       "    <tr>\n",
       "      <th>4</th>\n",
       "      <td>1996</td>\n",
       "      <td>JAN</td>\n",
       "      <td>189135.0</td>\n",
       "    </tr>\n",
       "  </tbody>\n",
       "</table>\n",
       "</div>"
      ],
      "text/plain": [
       "   YEAR Month     Sales\n",
       "0  1992   JAN  146925.0\n",
       "1  1993   JAN  157555.0\n",
       "2  1994   JAN  167518.0\n",
       "3  1995   JAN  182413.0\n",
       "4  1996   JAN  189135.0"
      ]
     },
     "execution_count": 26,
     "metadata": {},
     "output_type": "execute_result"
    }
   ],
   "source": [
    "# Reshape the date so months are in row.\n",
    "df2 = pd.melt(df, id_vars=['YEAR'], value_vars=['JAN','FEB','MAR','APR','MAY','JUN','JUL','AUG','SEP','OCT','NOV','DEC'], \n",
    "        var_name='Month', value_name='Sales')\n",
    "df2.head()"
   ]
  },
  {
   "cell_type": "code",
   "execution_count": 27,
   "id": "029e3772",
   "metadata": {},
   "outputs": [
    {
     "data": {
      "text/html": [
       "<div>\n",
       "<style scoped>\n",
       "    .dataframe tbody tr th:only-of-type {\n",
       "        vertical-align: middle;\n",
       "    }\n",
       "\n",
       "    .dataframe tbody tr th {\n",
       "        vertical-align: top;\n",
       "    }\n",
       "\n",
       "    .dataframe thead th {\n",
       "        text-align: right;\n",
       "    }\n",
       "</style>\n",
       "<table border=\"1\" class=\"dataframe\">\n",
       "  <thead>\n",
       "    <tr style=\"text-align: right;\">\n",
       "      <th></th>\n",
       "      <th>YEAR</th>\n",
       "      <th>Month</th>\n",
       "      <th>Sales</th>\n",
       "    </tr>\n",
       "  </thead>\n",
       "  <tbody>\n",
       "    <tr>\n",
       "      <th>0</th>\n",
       "      <td>1992</td>\n",
       "      <td>1</td>\n",
       "      <td>146925.0</td>\n",
       "    </tr>\n",
       "    <tr>\n",
       "      <th>1</th>\n",
       "      <td>1993</td>\n",
       "      <td>1</td>\n",
       "      <td>157555.0</td>\n",
       "    </tr>\n",
       "    <tr>\n",
       "      <th>2</th>\n",
       "      <td>1994</td>\n",
       "      <td>1</td>\n",
       "      <td>167518.0</td>\n",
       "    </tr>\n",
       "    <tr>\n",
       "      <th>3</th>\n",
       "      <td>1995</td>\n",
       "      <td>1</td>\n",
       "      <td>182413.0</td>\n",
       "    </tr>\n",
       "    <tr>\n",
       "      <th>4</th>\n",
       "      <td>1996</td>\n",
       "      <td>1</td>\n",
       "      <td>189135.0</td>\n",
       "    </tr>\n",
       "    <tr>\n",
       "      <th>5</th>\n",
       "      <td>1997</td>\n",
       "      <td>1</td>\n",
       "      <td>202371.0</td>\n",
       "    </tr>\n",
       "    <tr>\n",
       "      <th>6</th>\n",
       "      <td>1998</td>\n",
       "      <td>1</td>\n",
       "      <td>209666.0</td>\n",
       "    </tr>\n",
       "    <tr>\n",
       "      <th>7</th>\n",
       "      <td>1999</td>\n",
       "      <td>1</td>\n",
       "      <td>223997.0</td>\n",
       "    </tr>\n",
       "    <tr>\n",
       "      <th>8</th>\n",
       "      <td>2000</td>\n",
       "      <td>1</td>\n",
       "      <td>243436.0</td>\n",
       "    </tr>\n",
       "    <tr>\n",
       "      <th>9</th>\n",
       "      <td>2001</td>\n",
       "      <td>1</td>\n",
       "      <td>252654.0</td>\n",
       "    </tr>\n",
       "    <tr>\n",
       "      <th>10</th>\n",
       "      <td>2002</td>\n",
       "      <td>1</td>\n",
       "      <td>256307.0</td>\n",
       "    </tr>\n",
       "    <tr>\n",
       "      <th>11</th>\n",
       "      <td>2003</td>\n",
       "      <td>1</td>\n",
       "      <td>267230.0</td>\n",
       "    </tr>\n",
       "    <tr>\n",
       "      <th>12</th>\n",
       "      <td>2004</td>\n",
       "      <td>1</td>\n",
       "      <td>278913.0</td>\n",
       "    </tr>\n",
       "  </tbody>\n",
       "</table>\n",
       "</div>"
      ],
      "text/plain": [
       "    YEAR  Month     Sales\n",
       "0   1992      1  146925.0\n",
       "1   1993      1  157555.0\n",
       "2   1994      1  167518.0\n",
       "3   1995      1  182413.0\n",
       "4   1996      1  189135.0\n",
       "5   1997      1  202371.0\n",
       "6   1998      1  209666.0\n",
       "7   1999      1  223997.0\n",
       "8   2000      1  243436.0\n",
       "9   2001      1  252654.0\n",
       "10  2002      1  256307.0\n",
       "11  2003      1  267230.0\n",
       "12  2004      1  278913.0"
      ]
     },
     "execution_count": 27,
     "metadata": {},
     "output_type": "execute_result"
    }
   ],
   "source": [
    "# Convert month to ordered numbers.\n",
    "df2['Month'] = df2['Month'].map({'JAN' :1,'FEB' :2,'MAR' :3, 'APR' :4,'MAY' :5,'JUN' :6,'JUL' :7,'AUG' :8,'SEP' :9,'OCT' :10,'NOV' :11,'DEC' :12})\n",
    "df2.head(13)"
   ]
  },
  {
   "cell_type": "code",
   "execution_count": 29,
   "id": "dc0ffaa6",
   "metadata": {},
   "outputs": [
    {
     "data": {
      "text/html": [
       "<div>\n",
       "<style scoped>\n",
       "    .dataframe tbody tr th:only-of-type {\n",
       "        vertical-align: middle;\n",
       "    }\n",
       "\n",
       "    .dataframe tbody tr th {\n",
       "        vertical-align: top;\n",
       "    }\n",
       "\n",
       "    .dataframe thead th {\n",
       "        text-align: right;\n",
       "    }\n",
       "</style>\n",
       "<table border=\"1\" class=\"dataframe\">\n",
       "  <thead>\n",
       "    <tr style=\"text-align: right;\">\n",
       "      <th></th>\n",
       "      <th>YEAR</th>\n",
       "      <th>Month</th>\n",
       "      <th>Sales</th>\n",
       "    </tr>\n",
       "  </thead>\n",
       "  <tbody>\n",
       "    <tr>\n",
       "      <th>0</th>\n",
       "      <td>1992</td>\n",
       "      <td>1</td>\n",
       "      <td>146925.0</td>\n",
       "    </tr>\n",
       "    <tr>\n",
       "      <th>30</th>\n",
       "      <td>1992</td>\n",
       "      <td>2</td>\n",
       "      <td>147223.0</td>\n",
       "    </tr>\n",
       "    <tr>\n",
       "      <th>60</th>\n",
       "      <td>1992</td>\n",
       "      <td>3</td>\n",
       "      <td>146805.0</td>\n",
       "    </tr>\n",
       "    <tr>\n",
       "      <th>90</th>\n",
       "      <td>1992</td>\n",
       "      <td>4</td>\n",
       "      <td>148032.0</td>\n",
       "    </tr>\n",
       "    <tr>\n",
       "      <th>120</th>\n",
       "      <td>1992</td>\n",
       "      <td>5</td>\n",
       "      <td>149010.0</td>\n",
       "    </tr>\n",
       "  </tbody>\n",
       "</table>\n",
       "</div>"
      ],
      "text/plain": [
       "     YEAR  Month     Sales\n",
       "0    1992      1  146925.0\n",
       "30   1992      2  147223.0\n",
       "60   1992      3  146805.0\n",
       "90   1992      4  148032.0\n",
       "120  1992      5  149010.0"
      ]
     },
     "execution_count": 29,
     "metadata": {},
     "output_type": "execute_result"
    }
   ],
   "source": [
    "# Sort the year and month in orders.\n",
    "sorted = df2.sort_values(by = ['YEAR','Month'], ascending = [True, True], na_position = 'first')\n",
    "sorted.head()"
   ]
  },
  {
   "cell_type": "code",
   "execution_count": 9,
   "id": "1e4fca3e",
   "metadata": {},
   "outputs": [
    {
     "name": "stdout",
     "output_type": "stream",
     "text": [
      "<class 'pandas.core.frame.DataFrame'>\n",
      "Int64Index: 48 entries, 0 to 47\n",
      "Data columns (total 3 columns):\n",
      " #   Column  Non-Null Count  Dtype\n",
      "---  ------  --------------  -----\n",
      " 0   YEAR    48 non-null     int64\n",
      " 1   Month   48 non-null     int64\n",
      " 2   Sales   48 non-null     int64\n",
      "dtypes: int64(3)\n",
      "memory usage: 1.5 KB\n"
     ]
    }
   ],
   "source": [
    "# Check the data type\n",
    "sorted.info()"
   ]
  },
  {
   "cell_type": "code",
   "execution_count": 30,
   "id": "d8013215",
   "metadata": {},
   "outputs": [],
   "source": [
    "# Merge the year and month as a date \n",
    "sorted['Date']= sorted['YEAR'].astype(str) +'-'+ sorted['Month'].astype(str)"
   ]
  },
  {
   "cell_type": "code",
   "execution_count": 71,
   "id": "d142e4c6",
   "metadata": {},
   "outputs": [],
   "source": [
    "#sorted[\"Month\"] = pd.to_datetime(sorted.Month, errors='coerce').dt.month\n",
    "#sorted[\"YEAR\"] = pd.to_datetime(sorted.YEAR, errors='coerce').dt.year\n",
    "#sorted['YEAR'] = pd.to_datetime(sorted['YEAR'], format='%Y')\n",
    "#sorted['Month'] = pd.to_datetime(sorted['Month'], format='%m')"
   ]
  },
  {
   "cell_type": "code",
   "execution_count": 21,
   "id": "918a315f",
   "metadata": {},
   "outputs": [
    {
     "data": {
      "text/html": [
       "<div>\n",
       "<style scoped>\n",
       "    .dataframe tbody tr th:only-of-type {\n",
       "        vertical-align: middle;\n",
       "    }\n",
       "\n",
       "    .dataframe tbody tr th {\n",
       "        vertical-align: top;\n",
       "    }\n",
       "\n",
       "    .dataframe thead th {\n",
       "        text-align: right;\n",
       "    }\n",
       "</style>\n",
       "<table border=\"1\" class=\"dataframe\">\n",
       "  <thead>\n",
       "    <tr style=\"text-align: right;\">\n",
       "      <th></th>\n",
       "      <th>YEAR</th>\n",
       "      <th>Month</th>\n",
       "      <th>Sales</th>\n",
       "      <th>date</th>\n",
       "    </tr>\n",
       "  </thead>\n",
       "  <tbody>\n",
       "    <tr>\n",
       "      <th>0</th>\n",
       "      <td>1992</td>\n",
       "      <td>1</td>\n",
       "      <td>146925</td>\n",
       "      <td>1992-1</td>\n",
       "    </tr>\n",
       "    <tr>\n",
       "      <th>4</th>\n",
       "      <td>1992</td>\n",
       "      <td>2</td>\n",
       "      <td>147223</td>\n",
       "      <td>1992-2</td>\n",
       "    </tr>\n",
       "  </tbody>\n",
       "</table>\n",
       "</div>"
      ],
      "text/plain": [
       "   YEAR  Month   Sales    date\n",
       "0  1992      1  146925  1992-1\n",
       "4  1992      2  147223  1992-2"
      ]
     },
     "execution_count": 21,
     "metadata": {},
     "output_type": "execute_result"
    }
   ],
   "source": [
    "#sorted.head(2)"
   ]
  },
  {
   "cell_type": "code",
   "execution_count": 32,
   "id": "2a86d11a",
   "metadata": {},
   "outputs": [],
   "source": [
    "# Convert Date into datetime format\n",
    "sorted['Date']= pd.to_datetime(sorted['Date'])"
   ]
  },
  {
   "cell_type": "code",
   "execution_count": 33,
   "id": "88f94944",
   "metadata": {},
   "outputs": [
    {
     "name": "stdout",
     "output_type": "stream",
     "text": [
      "<class 'pandas.core.frame.DataFrame'>\n",
      "Int64Index: 360 entries, 0 to 359\n",
      "Data columns (total 4 columns):\n",
      " #   Column  Non-Null Count  Dtype         \n",
      "---  ------  --------------  -----         \n",
      " 0   YEAR    360 non-null    int64         \n",
      " 1   Month   360 non-null    int64         \n",
      " 2   Sales   354 non-null    float64       \n",
      " 3   Date    360 non-null    datetime64[ns]\n",
      "dtypes: datetime64[ns](1), float64(1), int64(2)\n",
      "memory usage: 14.1 KB\n"
     ]
    }
   ],
   "source": [
    "sorted.info()"
   ]
  },
  {
   "cell_type": "code",
   "execution_count": 42,
   "id": "88c256aa",
   "metadata": {},
   "outputs": [
    {
     "data": {
      "text/plain": [
       "(360, 2)"
      ]
     },
     "execution_count": 42,
     "metadata": {},
     "output_type": "execute_result"
    }
   ],
   "source": [
    "# Create a new dataframe with Date and Sales only.\n",
    "clean =sorted[['Sales','Date']]\n",
    "clean.head(4)\n",
    "clean.shape"
   ]
  },
  {
   "cell_type": "code",
   "execution_count": 114,
   "id": "436b3dbf",
   "metadata": {},
   "outputs": [
    {
     "data": {
      "image/png": "[encoded data removed]",
      "text/plain": [
       "<Figure size 640x480 with 1 Axes>"
      ]
     },
     "metadata": {},
     "output_type": "display_data"
    },
    {
     "name": "stdout",
     "output_type": "stream",
     "text": [
      "There are 2 abnormal sales varaitions, at end of 2008 and Apr-2020, plus, the sales growth rate at 2021 are also unprecedented. \n"
     ]
    }
   ],
   "source": [
    "# Check the overall trend of sales to spot anything abnormal\n",
    "\n",
    "import matplotlib.pyplot as plt\n",
    "\n",
    "plt.plot(clean['Date'], clean['Sales'])  # Plot the chart\n",
    "plt.show()\n",
    "print('There are 2 abnormal sales varaitions, at end of 2008 and Apr-2020, plus, the sales growth rate at 2021 are also unprecedented. ') \n"
   ]
  },
  {
   "cell_type": "code",
   "execution_count": 74,
   "id": "56ec7e6f",
   "metadata": {},
   "outputs": [
    {
     "name": "stdout",
     "output_type": "stream",
     "text": [
      "342 12\n"
     ]
    }
   ],
   "source": [
    "# Since I only has one column to process, direct split the data into train and test set\n",
    "x = clean.Sales\n",
    "train = x[:342]\n",
    "test = x[342:354]\n",
    "print(train.size, test.size)"
   ]
  },
  {
   "cell_type": "code",
   "execution_count": 62,
   "id": "98e0a3d0",
   "metadata": {},
   "outputs": [],
   "source": [
    "#Using AR model\n",
    "\n",
    "#Suspend the warning\n",
    "import warnings\n",
    "warnings.filterwarnings('ignore')\n",
    "\n",
    "from statsmodels.tsa.ar_model import AutoReg\n",
    "from sklearn.metrics import mean_squared_error\n",
    "\n",
    "res = AutoReg(train, lags = 10).fit()"
   ]
  },
  {
   "cell_type": "code",
   "execution_count": 89,
   "id": "27295c55",
   "metadata": {},
   "outputs": [],
   "source": [
    "# Predict the sales from July-2020 to June-2021\n",
    "predictions = res.predict(start=343, end=354)"
   ]
  },
  {
   "cell_type": "code",
   "execution_count": 115,
   "id": "4461c5b8",
   "metadata": {},
   "outputs": [
    {
     "data": {
      "image/png": "[encoded data removed]",
      "text/plain": [
       "<Figure size 640x480 with 1 Axes>"
      ]
     },
     "metadata": {},
     "output_type": "display_data"
    }
   ],
   "source": [
    "# Visualize the prediction vs the actual sales. \n",
    "truevalue= x[342:354]\n",
    "plt.plot(clean.Date[342:354],truevalue, label = \"Actual\") \n",
    "plt.plot(clean.Date[342:354],predictions, label ='Predicted', color='red')\n",
    "plt.legend()\n",
    "plt.xlabel(\"Date of Sales\")\n",
    "plt.ylabel(\"Sales Values\")\n",
    "plt.title(\"Actual vs predicted Sales\")\n",
    "plt.show()\n"
   ]
  },
  {
   "cell_type": "code",
   "execution_count": 116,
   "id": "9210c2fe",
   "metadata": {},
   "outputs": [
    {
     "name": "stdout",
     "output_type": "stream",
     "text": [
      "prediction RSME value is: 63378.83236300476\n"
     ]
    }
   ],
   "source": [
    "#Calculate R2, RMSE, and MAE on predictions\n",
    "\n",
    "import sklearn.metrics as metrics\n",
    "test_r2 = metrics.r2_score(truevalue, predictions)\n",
    "test_mae = metrics.mean_absolute_error(truevalue, predictions)\n",
    "test_mse = metrics.mean_squared_error(truevalue, predictions)\n",
    "test_rmse = np.sqrt(test_mse)\n",
    "\n",
    "\n",
    "print('prediction RSME value is:', test_rmse)\n"
   ]
  },
  {
   "cell_type": "markdown",
   "id": "fd500daf",
   "metadata": {},
   "source": [
    "##### Conclusion:\n",
    "the RSME is very big. so the model did not work very well. From Charts above, the model did predict the trend but the values were off quite a bit. I think the big abnormal sales dip in April-2020 and unprecedented sales growth in 2021 impact the development of model negatively.  "
   ]
  },
  {
   "cell_type": "markdown",
   "id": "2c49afb4",
   "metadata": {},
   "source": [
    "Resource: The dataset is provided by Bellevue university for use in DSC630 class."
   ]
  }
 ],
 "metadata": {
  "kernelspec": {
   "display_name": "Python 3 (ipykernel)",
   "language": "python",
   "name": "python3"
  },
  "language_info": {
   "codemirror_mode": {
    "name": "ipython",
    "version": 3
   },
   "file_extension": ".py",
   "mimetype": "text/x-python",
   "name": "python",
   "nbconvert_exporter": "python",
   "pygments_lexer": "ipython3",
   "version": "3.11.4"
  }
 },
 "nbformat": 4,
 "nbformat_minor": 5
}
